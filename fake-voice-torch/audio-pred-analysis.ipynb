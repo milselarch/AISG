{
 "cells": [
  {
   "cell_type": "code",
   "execution_count": 1,
   "id": "70afd3b4",
   "metadata": {},
   "outputs": [
    {
     "name": "stdout",
     "output_type": "stream",
     "text": [
      "Requirement already satisfied: scikit-plot in /home/milselarch/projects/AISG/venv/lib/python3.9/site-packages (0.3.7)\n",
      "Requirement already satisfied: matplotlib>=1.4.0 in /home/milselarch/projects/AISG/venv/lib/python3.9/site-packages (from scikit-plot) (3.4.3)\n",
      "Requirement already satisfied: scipy>=0.9 in /home/milselarch/projects/AISG/venv/lib/python3.9/site-packages (from scikit-plot) (1.7.1)\n",
      "Requirement already satisfied: scikit-learn>=0.18 in /home/milselarch/projects/AISG/venv/lib/python3.9/site-packages (from scikit-plot) (0.24.2)\n",
      "Requirement already satisfied: joblib>=0.10 in /home/milselarch/projects/AISG/venv/lib/python3.9/site-packages (from scikit-plot) (1.0.1)\n",
      "Requirement already satisfied: pyparsing>=2.2.1 in /usr/lib/python3/dist-packages (from matplotlib>=1.4.0->scikit-plot) (2.4.6)\n",
      "Requirement already satisfied: pillow>=6.2.0 in /home/milselarch/projects/AISG/venv/lib/python3.9/site-packages (from matplotlib>=1.4.0->scikit-plot) (8.3.1)\n",
      "Requirement already satisfied: kiwisolver>=1.0.1 in /home/milselarch/projects/AISG/venv/lib/python3.9/site-packages (from matplotlib>=1.4.0->scikit-plot) (1.3.1)\n",
      "Requirement already satisfied: numpy>=1.16 in /home/milselarch/projects/AISG/venv/lib/python3.9/site-packages (from matplotlib>=1.4.0->scikit-plot) (1.19.5)\n",
      "Requirement already satisfied: python-dateutil>=2.7 in /usr/lib/python3/dist-packages (from matplotlib>=1.4.0->scikit-plot) (2.7.3)\n",
      "Requirement already satisfied: cycler>=0.10 in /home/milselarch/projects/AISG/venv/lib/python3.9/site-packages (from matplotlib>=1.4.0->scikit-plot) (0.10.0)\n",
      "Requirement already satisfied: six in /home/milselarch/projects/AISG/venv/lib/python3.9/site-packages (from cycler>=0.10->matplotlib>=1.4.0->scikit-plot) (1.15.0)\n",
      "Requirement already satisfied: threadpoolctl>=2.0.0 in /home/milselarch/projects/AISG/venv/lib/python3.9/site-packages (from scikit-learn>=0.18->scikit-plot) (2.2.0)\n",
      "\u001b[33mWARNING: You are using pip version 21.2.4; however, version 21.3 is available.\n",
      "You should consider upgrading via the '/home/milselarch/projects/AISG/venv/bin/python3.9 -m pip install --upgrade pip' command.\u001b[0m\n"
     ]
    }
   ],
   "source": [
    "!pip install scikit-plot"
   ]
  },
  {
   "cell_type": "code",
   "execution_count": 2,
   "id": "bb686716",
   "metadata": {},
   "outputs": [],
   "source": [
    "import pandas as pd\n",
    "import sklearn.metrics\n",
    "import scikitplot as skplt\n",
    "import matplotlib.pyplot as plt\n",
    "import numpy as np\n",
    "\n",
    "from tqdm.auto import tqdm\n",
    "\n",
    "path = 'csvs/aisg-preds-211013-1810.csv'\n",
    "df = pd.read_csv(path)"
   ]
  },
  {
   "cell_type": "code",
   "execution_count": 3,
   "id": "710741d3",
   "metadata": {},
   "outputs": [
    {
     "data": {
      "text/html": [
       "<div>\n",
       "<style scoped>\n",
       "    .dataframe tbody tr th:only-of-type {\n",
       "        vertical-align: middle;\n",
       "    }\n",
       "\n",
       "    .dataframe tbody tr th {\n",
       "        vertical-align: top;\n",
       "    }\n",
       "\n",
       "    .dataframe thead th {\n",
       "        text-align: right;\n",
       "    }\n",
       "</style>\n",
       "<table border=\"1\" class=\"dataframe\">\n",
       "  <thead>\n",
       "    <tr style=\"text-align: right;\">\n",
       "      <th></th>\n",
       "      <th>filename</th>\n",
       "      <th>label</th>\n",
       "      <th>trained_upon</th>\n",
       "      <th>median_pred</th>\n",
       "      <th>mean_pred</th>\n",
       "      <th>3rd_quartile_pred</th>\n",
       "      <th>1st_quartile_pred</th>\n",
       "      <th>group_pred</th>\n",
       "    </tr>\n",
       "  </thead>\n",
       "  <tbody>\n",
       "    <tr>\n",
       "      <th>0</th>\n",
       "      <td>9a22372d22a52397.mp4</td>\n",
       "      <td>1</td>\n",
       "      <td>0</td>\n",
       "      <td>0.942156</td>\n",
       "      <td>0.942156</td>\n",
       "      <td>0.952945</td>\n",
       "      <td>0.939705</td>\n",
       "      <td>0.945661</td>\n",
       "    </tr>\n",
       "    <tr>\n",
       "      <th>1</th>\n",
       "      <td>9bc4f1306bb8e2cd.mp4</td>\n",
       "      <td>1</td>\n",
       "      <td>0</td>\n",
       "      <td>0.954891</td>\n",
       "      <td>0.954891</td>\n",
       "      <td>0.962717</td>\n",
       "      <td>0.951176</td>\n",
       "      <td>0.958116</td>\n",
       "    </tr>\n",
       "    <tr>\n",
       "      <th>2</th>\n",
       "      <td>88fe2a902a9d8cc7.mp4</td>\n",
       "      <td>1</td>\n",
       "      <td>0</td>\n",
       "      <td>0.953008</td>\n",
       "      <td>0.953008</td>\n",
       "      <td>0.961259</td>\n",
       "      <td>0.949398</td>\n",
       "      <td>0.957011</td>\n",
       "    </tr>\n",
       "    <tr>\n",
       "      <th>3</th>\n",
       "      <td>1f3cbda142d0944a.mp4</td>\n",
       "      <td>1</td>\n",
       "      <td>0</td>\n",
       "      <td>0.955451</td>\n",
       "      <td>0.955451</td>\n",
       "      <td>0.963568</td>\n",
       "      <td>0.950211</td>\n",
       "      <td>0.958797</td>\n",
       "    </tr>\n",
       "    <tr>\n",
       "      <th>4</th>\n",
       "      <td>63bed62257daccaf.mp4</td>\n",
       "      <td>1</td>\n",
       "      <td>0</td>\n",
       "      <td>0.955592</td>\n",
       "      <td>0.955592</td>\n",
       "      <td>0.963512</td>\n",
       "      <td>0.952683</td>\n",
       "      <td>0.958823</td>\n",
       "    </tr>\n",
       "    <tr>\n",
       "      <th>...</th>\n",
       "      <td>...</td>\n",
       "      <td>...</td>\n",
       "      <td>...</td>\n",
       "      <td>...</td>\n",
       "      <td>...</td>\n",
       "      <td>...</td>\n",
       "      <td>...</td>\n",
       "      <td>...</td>\n",
       "    </tr>\n",
       "    <tr>\n",
       "      <th>6938</th>\n",
       "      <td>f5c4bfb20068f129.mp4</td>\n",
       "      <td>0</td>\n",
       "      <td>1</td>\n",
       "      <td>0.003744</td>\n",
       "      <td>0.003744</td>\n",
       "      <td>0.006697</td>\n",
       "      <td>0.002873</td>\n",
       "      <td>0.004893</td>\n",
       "    </tr>\n",
       "    <tr>\n",
       "      <th>6939</th>\n",
       "      <td>b7b7b7f6db7f6e2e.mp4</td>\n",
       "      <td>0</td>\n",
       "      <td>1</td>\n",
       "      <td>0.104911</td>\n",
       "      <td>0.104911</td>\n",
       "      <td>0.145143</td>\n",
       "      <td>0.091448</td>\n",
       "      <td>0.118912</td>\n",
       "    </tr>\n",
       "    <tr>\n",
       "      <th>6940</th>\n",
       "      <td>c3fc75289ae3b41e.mp4</td>\n",
       "      <td>0</td>\n",
       "      <td>1</td>\n",
       "      <td>0.016028</td>\n",
       "      <td>0.016028</td>\n",
       "      <td>0.090767</td>\n",
       "      <td>0.002062</td>\n",
       "      <td>0.058182</td>\n",
       "    </tr>\n",
       "    <tr>\n",
       "      <th>6941</th>\n",
       "      <td>519e97d4c90aaa1c.mp4</td>\n",
       "      <td>0</td>\n",
       "      <td>1</td>\n",
       "      <td>0.690651</td>\n",
       "      <td>0.690651</td>\n",
       "      <td>0.719363</td>\n",
       "      <td>0.662181</td>\n",
       "      <td>0.695907</td>\n",
       "    </tr>\n",
       "    <tr>\n",
       "      <th>6942</th>\n",
       "      <td>38cd7b295a5cfda5.mp4</td>\n",
       "      <td>0</td>\n",
       "      <td>1</td>\n",
       "      <td>0.000944</td>\n",
       "      <td>0.000944</td>\n",
       "      <td>0.001743</td>\n",
       "      <td>0.000041</td>\n",
       "      <td>0.001169</td>\n",
       "    </tr>\n",
       "  </tbody>\n",
       "</table>\n",
       "<p>6943 rows × 8 columns</p>\n",
       "</div>"
      ],
      "text/plain": [
       "                  filename  label  trained_upon  median_pred  mean_pred  \\\n",
       "0     9a22372d22a52397.mp4      1             0     0.942156   0.942156   \n",
       "1     9bc4f1306bb8e2cd.mp4      1             0     0.954891   0.954891   \n",
       "2     88fe2a902a9d8cc7.mp4      1             0     0.953008   0.953008   \n",
       "3     1f3cbda142d0944a.mp4      1             0     0.955451   0.955451   \n",
       "4     63bed62257daccaf.mp4      1             0     0.955592   0.955592   \n",
       "...                    ...    ...           ...          ...        ...   \n",
       "6938  f5c4bfb20068f129.mp4      0             1     0.003744   0.003744   \n",
       "6939  b7b7b7f6db7f6e2e.mp4      0             1     0.104911   0.104911   \n",
       "6940  c3fc75289ae3b41e.mp4      0             1     0.016028   0.016028   \n",
       "6941  519e97d4c90aaa1c.mp4      0             1     0.690651   0.690651   \n",
       "6942  38cd7b295a5cfda5.mp4      0             1     0.000944   0.000944   \n",
       "\n",
       "      3rd_quartile_pred  1st_quartile_pred  group_pred  \n",
       "0              0.952945           0.939705    0.945661  \n",
       "1              0.962717           0.951176    0.958116  \n",
       "2              0.961259           0.949398    0.957011  \n",
       "3              0.963568           0.950211    0.958797  \n",
       "4              0.963512           0.952683    0.958823  \n",
       "...                 ...                ...         ...  \n",
       "6938           0.006697           0.002873    0.004893  \n",
       "6939           0.145143           0.091448    0.118912  \n",
       "6940           0.090767           0.002062    0.058182  \n",
       "6941           0.719363           0.662181    0.695907  \n",
       "6942           0.001743           0.000041    0.001169  \n",
       "\n",
       "[6943 rows x 8 columns]"
      ]
     },
     "execution_count": 3,
     "metadata": {},
     "output_type": "execute_result"
    }
   ],
   "source": [
    "df"
   ]
  },
  {
   "cell_type": "code",
   "execution_count": null,
   "id": "6c9d39ff",
   "metadata": {},
   "outputs": [],
   "source": []
  },
  {
   "cell_type": "code",
   "execution_count": 4,
   "id": "9fa37eee",
   "metadata": {},
   "outputs": [
    {
     "data": {
      "text/plain": [
       "[<matplotlib.lines.Line2D at 0x7f826e219460>]"
      ]
     },
     "execution_count": 4,
     "metadata": {},
     "output_type": "execute_result"
    },
    {
     "data": {
      "image/png": "[encoded data removed]",
      "text/plain": [
       "<Figure size 864x360 with 1 Axes>"
      ]
     },
     "metadata": {},
     "output_type": "display_data"
    }
   ],
   "source": [
    "labels = df['label'].to_numpy()\n",
    "preds = df['median_pred'].to_numpy()\n",
    "fpr, tpr, _ = sklearn.metrics.roc_curve(labels, preds)\n",
    "auc = sklearn.metrics.roc_auc_score(labels, preds)\n",
    "\n",
    "plt.style.use('ggplot')\n",
    "plt.figure(figsize=(12, 5))\n",
    "plt.xlim([-0.02, 1.02])\n",
    "plt.ylim([-0.02, 1.02])\n",
    "plt.title(\"Audio prediction ROC. AUC=\"+str(round(auc, 3)))\n",
    "plt.plot(fpr, tpr)\n"
   ]
  },
  {
   "cell_type": "code",
   "execution_count": 28,
   "id": "d8396dac",
   "metadata": {},
   "outputs": [
    {
     "name": "stdout",
     "output_type": "stream",
     "text": [
      "[1. 1. 1. ... 0. 0. 0.]\n"
     ]
    }
   ],
   "source": [
    "import sys\n",
    "sys.path.append(\"..\")\n",
    "\n",
    "from FaceAnalysis import FaceCluster\n",
    "\n",
    "face_map = FaceCluster.make_face_map(\n",
    "    '../stats/bg-clusters/face-vid-labels.csv'\n",
    ")\n",
    "\n",
    "filenames = df['filename'].to_numpy()\n",
    "face_preds = []\n",
    "\n",
    "for filename in filenames:\n",
    "    face_pred = face_map.get(filename, 0.5)\n",
    "    if face_pred == 1:\n",
    "        face_preds.append(1)\n",
    "    else:\n",
    "        face_preds.append(0)\n",
    "\n",
    "face_preds = np.array(face_preds, dtype=float)\n",
    "print(face_preds)"
   ]
  },
  {
   "cell_type": "code",
   "execution_count": null,
   "id": "3ba8d633",
   "metadata": {},
   "outputs": [
    {
     "name": "stdout",
     "output_type": "stream",
     "text": [
      "(6943,) (6943,)\n",
      "[[9.42155659e-01 9.54890847e-01 9.53007996e-01 ... 1.60283148e-02\n",
      "  6.90651178e-01 9.43817955e-04]\n",
      " [1.00000000e+00 1.00000000e+00 1.00000000e+00 ... 0.00000000e+00\n",
      "  0.00000000e+00 0.00000000e+00]]\n"
     ]
    },
    {
     "data": {
      "text/plain": [
       "[<matplotlib.lines.Line2D at 0x7f81ebf37100>]"
      ]
     },
     "execution_count": 29,
     "metadata": {},
     "output_type": "execute_result"
    }
   ],
   "source": [
    "labels = df['label'].to_numpy()\n",
    "preds = df['median_pred'].to_numpy()\n",
    "print(preds.shape, face_preds.shape)\n",
    "combined_preds = np.array([preds, face_preds])\n",
    "\n",
    "# print(preds)\n",
    "print(combined_preds)\n",
    "op_preds = np.max(combined_preds, axis=0)\n",
    "\n",
    "fpr, tpr, _ = sklearn.metrics.roc_curve(labels, op_preds)\n",
    "auc = sklearn.metrics.roc_auc_score(labels, op_preds)\n",
    "\n",
    "plt.style.use('ggplot')\n",
    "plt.figure(figsize=(12, 5))\n",
    "plt.xlim([-0.02, 1.02])\n",
    "plt.ylim([-0.02, 1.02])\n",
    "plt.title(\"Optimistic audio prediction ROC. AUC=\"+str(round(auc, 3)))\n",
    "plt.plot(fpr, tpr)\n"
   ]
  },
  {
   "cell_type": "code",
   "execution_count": null,
   "id": "92300983",
   "metadata": {},
   "outputs": [],
   "source": [
    "print(0.287 / (0.287 + 0.0121 * (1-0.287)))"
   ]
  },
  {
   "cell_type": "code",
   "execution_count": null,
   "id": "fa9a6b09",
   "metadata": {},
   "outputs": [],
   "source": [
    "audio_label_csv = pd.read_csv('csvs/audio-labels-211014-1653.csv')\n",
    "filenames = audio_label_csv['filename'].to_numpy()\n",
    "audio_labels = audio_label_csv['fake_audio'].to_numpy()\n",
    "print(filenames)\n",
    "print(audio_labels)"
   ]
  },
  {
   "cell_type": "code",
   "execution_count": null,
   "id": "ae39f8ce",
   "metadata": {},
   "outputs": [],
   "source": [
    "preds = []\n",
    "for filename in tqdm(filenames):\n",
    "    row = df[df['filename'] == filename]\n",
    "    pred = row['median_pred'].to_numpy()[0]\n",
    "    preds.append(pred)\n",
    "\n",
    "preds = np.array(preds)\n",
    "print(preds)"
   ]
  },
  {
   "cell_type": "code",
   "execution_count": null,
   "id": "0669387c",
   "metadata": {},
   "outputs": [],
   "source": [
    "plt.style.use('ggplot')\n",
    "plt.figure(figsize=(12, 5))\n",
    "plt.hist(preds, bins=25)"
   ]
  },
  {
   "cell_type": "code",
   "execution_count": null,
   "id": "996043f2",
   "metadata": {},
   "outputs": [],
   "source": [
    "print(df['label'].to_numpy())\n",
    "fpr, tpr, _ = sklearn.metrics.roc_curve(audio_labels, preds)\n",
    "auc = sklearn.metrics.roc_auc_score(audio_labels, preds)\n",
    "\n",
    "plt.style.use('ggplot')\n",
    "plt.figure(figsize=(12, 5))\n",
    "plt.xlim([-0.02, 1.02])\n",
    "plt.ylim([-0.05, 1.05])\n",
    "plt.title(\"Audio prediction ROC. AUC=\"+str(round(auc, 10)))\n",
    "plt.plot(fpr, tpr)\n"
   ]
  },
  {
   "cell_type": "code",
   "execution_count": null,
   "id": "c9b5291d",
   "metadata": {},
   "outputs": [],
   "source": []
  },
  {
   "cell_type": "code",
   "execution_count": null,
   "id": "9e8d9a5d",
   "metadata": {},
   "outputs": [],
   "source": []
  }
 ],
 "metadata": {
  "kernelspec": {
   "display_name": "Python 3",
   "language": "python",
   "name": "python3"
  },
  "language_info": {
   "codemirror_mode": {
    "name": "ipython",
    "version": 3
   },
   "file_extension": ".py",
   "mimetype": "text/x-python",
   "name": "python",
   "nbconvert_exporter": "python",
   "pygments_lexer": "ipython3",
   "version": "3.9.7"
  }
 },
 "nbformat": 4,
 "nbformat_minor": 5
}
