{
 "cells": [
  {
   "cell_type": "code",
   "execution_count": 1,
   "id": "a6cae799",
   "metadata": {},
   "outputs": [
    {
     "name": "stdout",
     "output_type": "stream",
     "text": [
      "no display found. Using non-interactive Agg backend\n",
      "No module named 'foundations'\n"
     ]
    }
   ],
   "source": [
    "import os\n",
    "import matplotlib.pyplot as plt\n",
    "import RnnModel\n",
    "import torch\n",
    "\n",
    "from constants import model_params, base_data_path\n",
    "from IPython.display import Image \n",
    "from matplotlib.pyplot import imshow\n",
    "from utils import *\n"
   ]
  },
  {
   "cell_type": "code",
   "execution_count": 2,
   "id": "79976477",
   "metadata": {},
   "outputs": [
    {
     "name": "stdout",
     "output_type": "stream",
     "text": [
      "['032bf1a78f9280e7.aac']\n"
     ]
    }
   ],
   "source": [
    "os.environ['TF_CPP_MIN_LOG_LEVEL'] = '3'\n",
    "# see issue #152\n",
    "os.environ[\"CUDA_DEVICE_ORDER\"] = \"PCI_BUS_ID\"\n",
    "os.environ[\"CUDA_VISIBLE_DEVICES\"] = \"2\"\n",
    "\n",
    "# Directory from which we read the data\n",
    "mode = \"unlabeled\"  # real, fake, or unlabeled\n",
    "\n",
    "# Convert files to flac\n",
    "# convert_to_flac(os.path.join(data_dir,mode))\n",
    "dirpath = '../datasets/train/audios'\n",
    "# filenames = os.listdir(dirpath)\n",
    "# filenames = [f'{dirpath}/{filename}' for filename in filenames]\n",
    "# filenames = filenames[:2]\n",
    "filenames = ['032bf1a78f9280e7.aac']\n",
    "print(filenames)"
   ]
  },
  {
   "cell_type": "code",
   "execution_count": 3,
   "id": "694ac774",
   "metadata": {},
   "outputs": [
    {
     "name": "stdout",
     "output_type": "stream",
     "text": [
      "../datasets/train/audios\n"
     ]
    },
    {
     "name": "stderr",
     "output_type": "stream",
     "text": [
      "100%|███████████████████████████████████████████████████████████████████| 1/1 [00:00<00:00,  8.55it/s]\n",
      "/home/milselarch/projects/AISG/venv/lib/python3.9/site-packages/librosa/core/audio.py:165: UserWarning: PySoundFile failed. Trying audioread instead.\n",
      "  warnings.warn(\"PySoundFile failed. Trying audioread instead.\")\n"
     ]
    }
   ],
   "source": [
    "print(dirpath)\n",
    "# print(os.path.join(filenames[0], dirpath, mode))\n",
    "processed_data = preprocess_from_filenames(\n",
    "    filenames=filenames, dirpath=dirpath, mode='unlabeled',\n",
    "    use_parallel=True\n",
    ")"
   ]
  },
  {
   "cell_type": "code",
   "execution_count": 4,
   "id": "1b8780b2",
   "metadata": {},
   "outputs": [
    {
     "name": "stdout",
     "output_type": "stream",
     "text": [
      "{'num_freq_bin': 240, 'num_conv_blocks': 8, 'num_conv_filters': 32, 'spatial_dropout_fraction': 0.05, 'num_dense_layers': 1, 'num_dense_neurons': 50, 'dense_dropout': 0, 'learning_rate': 0.0001, 'epochs': 1, 'batch_size': 156, 'residual_con': 2, 'use_default': True, 'model_save_dir': 'fitted_objects'}\n"
     ]
    }
   ],
   "source": [
    "print(model_params)\n",
    "discriminator = RnnModel.Discriminator(\n",
    "    num_freq_bin=model_params['num_freq_bin'],\n",
    "    init_neurons=model_params['num_conv_filters'],\n",
    "    num_conv_blocks=model_params['num_conv_blocks'],\n",
    "    residual_con=model_params['residual_con'],\n",
    "    num_dense_neurons=model_params['num_dense_neurons'],\n",
    "    dense_dropout=model_params['dense_dropout'],\n",
    "    num_dense_layers=model_params['num_dense_layers'],\n",
    ")"
   ]
  },
  {
   "cell_type": "code",
   "execution_count": 10,
   "id": "39a4302a",
   "metadata": {},
   "outputs": [
    {
     "name": "stdout",
     "output_type": "stream",
     "text": [
      "torch.Size([5095, 240, 1])\n",
      "torch.Size([2, 5095, 240, 1])\n"
     ]
    }
   ],
   "source": [
    "batch_x = processed_data[0]\n",
    "batch_x = batch_x.reshape((\n",
    "    len(batch_x), -1, hparams.num_mels\n",
    "))\n",
    "\n",
    "torch_batch = batch_x.transpose(0, 2, 1)\n",
    "torch_batch = torch.from_numpy(torch_batch)\n",
    "print(torch_batch.shape)\n",
    "\n",
    "torch_batch = torch.vstack([\n",
    "    torch_batch.unsqueeze(0), torch_batch.unsqueeze(0)\n",
    "])\n",
    "\n",
    "print(torch_batch.shape)\n"
   ]
  },
  {
   "cell_type": "code",
   "execution_count": 6,
   "id": "fc8e475d",
   "metadata": {},
   "outputs": [
    {
     "data": {
      "text/plain": [
       "torch.Size([2, 100, 1])"
      ]
     },
     "execution_count": 6,
     "metadata": {},
     "output_type": "execute_result"
    }
   ],
   "source": [
    "torch.vstack([\n",
    "    torch.ones((100, 1)).unsqueeze(0), \n",
    "    torch.ones((100, 1)).unsqueeze(0)\n",
    "]).shape"
   ]
  },
  {
   "cell_type": "code",
   "execution_count": 12,
   "id": "bf1a48c5",
   "metadata": {},
   "outputs": [
    {
     "name": "stdout",
     "output_type": "stream",
     "text": [
      "torch.Size([2, 1])\n",
      "tensor([[0.5328],\n",
      "        [0.5328]], grad_fn=<SigmoidBackward>)\n"
     ]
    }
   ],
   "source": [
    "preds, hidden_states = discriminator(torch_batch)\n",
    "print(preds.shape)\n",
    "print(preds)"
   ]
  },
  {
   "cell_type": "code",
   "execution_count": 7,
   "id": "623a4c0b",
   "metadata": {},
   "outputs": [
    {
     "name": "stdout",
     "output_type": "stream",
     "text": [
      "SHAPES [torch.Size([1, 5095, 50])]\n",
      "BATCH-O torch.Size([1, 5095, 50])\n",
      "torch.Size([1, 5095, 50])\n",
      "torch.Size([1, 1, 50])\n"
     ]
    },
    {
     "ename": "IndexError",
     "evalue": "too many indices for tensor of dimension 2",
     "output_type": "error",
     "traceback": [
      "\u001b[0;31m---------------------------------------------------------------------------\u001b[0m",
      "\u001b[0;31mIndexError\u001b[0m                                Traceback (most recent call last)",
      "\u001b[0;32m/tmp/ipykernel_423241/2875497093.py\u001b[0m in \u001b[0;36m<module>\u001b[0;34m\u001b[0m\n\u001b[1;32m      2\u001b[0m \u001b[0mprint\u001b[0m\u001b[0;34m(\u001b[0m\u001b[0mrnn_output\u001b[0m\u001b[0;34m.\u001b[0m\u001b[0mshape\u001b[0m\u001b[0;34m)\u001b[0m\u001b[0;34m\u001b[0m\u001b[0;34m\u001b[0m\u001b[0m\n\u001b[1;32m      3\u001b[0m \u001b[0mprint\u001b[0m\u001b[0;34m(\u001b[0m\u001b[0mhidden_states\u001b[0m\u001b[0;34m.\u001b[0m\u001b[0mshape\u001b[0m\u001b[0;34m)\u001b[0m\u001b[0;34m\u001b[0m\u001b[0;34m\u001b[0m\u001b[0m\n\u001b[0;32m----> 4\u001b[0;31m \u001b[0msliced\u001b[0m \u001b[0;34m=\u001b[0m \u001b[0mrnn_output\u001b[0m\u001b[0;34m[\u001b[0m\u001b[0;34m:\u001b[0m\u001b[0;34m,\u001b[0m \u001b[0;34m-\u001b[0m\u001b[0;36m1\u001b[0m\u001b[0;34m,\u001b[0m \u001b[0;34m:\u001b[0m\u001b[0;34m]\u001b[0m\u001b[0;34m[\u001b[0m\u001b[0;34m:\u001b[0m\u001b[0;34m,\u001b[0m \u001b[0;34m-\u001b[0m\u001b[0;36m1\u001b[0m\u001b[0;34m,\u001b[0m \u001b[0;34m:\u001b[0m\u001b[0;34m]\u001b[0m\u001b[0;34m\u001b[0m\u001b[0;34m\u001b[0m\u001b[0m\n\u001b[0m\u001b[1;32m      5\u001b[0m \u001b[0mprint\u001b[0m\u001b[0;34m(\u001b[0m\u001b[0msliced\u001b[0m\u001b[0;34m.\u001b[0m\u001b[0mshape\u001b[0m\u001b[0;34m)\u001b[0m\u001b[0;34m\u001b[0m\u001b[0;34m\u001b[0m\u001b[0m\n",
      "\u001b[0;31mIndexError\u001b[0m: too many indices for tensor of dimension 2"
     ]
    }
   ],
   "source": [
    "rnn_output, hidden_states = discriminator.rnn_test(torch_batch)\n",
    "print(rnn_output.shape)\n",
    "print(hidden_states.shape)\n",
    "sliced = rnn_output[:, -1, :][:, -1, :]\n",
    "print(sliced.shape)"
   ]
  },
  {
   "cell_type": "code",
   "execution_count": null,
   "id": "ce5db2d4",
   "metadata": {},
   "outputs": [],
   "source": [
    "rnn_output.contiguous().view(1, -1, 1).shape"
   ]
  },
  {
   "cell_type": "code",
   "execution_count": null,
   "id": "c961e809",
   "metadata": {},
   "outputs": [],
   "source": []
  }
 ],
 "metadata": {
  "kernelspec": {
   "display_name": "Python 3",
   "language": "python",
   "name": "python3"
  },
  "language_info": {
   "codemirror_mode": {
    "name": "ipython",
    "version": 3
   },
   "file_extension": ".py",
   "mimetype": "text/x-python",
   "name": "python",
   "nbconvert_exporter": "python",
   "pygments_lexer": "ipython3",
   "version": "3.9.6"
  }
 },
 "nbformat": 4,
 "nbformat_minor": 5
}
