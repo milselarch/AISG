{
 "cells": [
  {
   "cell_type": "code",
   "execution_count": 7,
   "id": "578146ef",
   "metadata": {},
   "outputs": [],
   "source": [
    "import os\n",
    "\n",
    "dirpath = os.path.join(\n",
    "    '../fake-voice-detection/DS_10283_3336/LA/',\n",
    "    'ASVspoof2019_LA_cm_protocols'\n",
    ")\n",
    "filepath = f'{dirpath}/ASVspoof2019.LA.cm.train.trn.txt'\n",
    "label_data = open(filepath).read().strip().split('\\n')"
   ]
  },
  {
   "cell_type": "code",
   "execution_count": 12,
   "id": "4640e303",
   "metadata": {},
   "outputs": [
    {
     "data": {
      "text/plain": [
       "['LA_0098 LA_T_9413366 - A06 spoof',\n",
       " 'LA_0098 LA_T_9506621 - A06 spoof',\n",
       " 'LA_0098 LA_T_9550569 - A06 spoof',\n",
       " 'LA_0098 LA_T_9582904 - A06 spoof',\n",
       " 'LA_0098 LA_T_9623506 - A06 spoof',\n",
       " 'LA_0098 LA_T_9717580 - A06 spoof',\n",
       " 'LA_0098 LA_T_9779814 - A06 spoof',\n",
       " 'LA_0098 LA_T_9783312 - A06 spoof',\n",
       " 'LA_0098 LA_T_9839348 - A06 spoof',\n",
       " 'LA_0098 LA_T_9982036 - A06 spoof']"
      ]
     },
     "execution_count": 12,
     "metadata": {},
     "output_type": "execute_result"
    }
   ],
   "source": [
    "label_data[-10:]"
   ]
  },
  {
   "cell_type": "code",
   "execution_count": 14,
   "id": "73b5b4d6",
   "metadata": {},
   "outputs": [
    {
     "data": {
      "text/plain": [
       "['LA_0079 LA_T_1138215 - - bonafide',\n",
       " 'LA_0079 LA_T_1271820 - - bonafide',\n",
       " 'LA_0079 LA_T_1272637 - - bonafide',\n",
       " 'LA_0079 LA_T_1276960 - - bonafide',\n",
       " 'LA_0079 LA_T_1341447 - - bonafide',\n",
       " 'LA_0079 LA_T_1363611 - - bonafide',\n",
       " 'LA_0079 LA_T_1596451 - - bonafide',\n",
       " 'LA_0079 LA_T_1608170 - - bonafide',\n",
       " 'LA_0079 LA_T_1684951 - - bonafide',\n",
       " 'LA_0079 LA_T_1699801 - - bonafide']"
      ]
     },
     "execution_count": 14,
     "metadata": {},
     "output_type": "execute_result"
    }
   ],
   "source": [
    "label_data[:10]"
   ]
  },
  {
   "cell_type": "code",
   "execution_count": null,
   "id": "8bb31457",
   "metadata": {},
   "outputs": [],
   "source": []
  }
 ],
 "metadata": {
  "kernelspec": {
   "display_name": "Python 3",
   "language": "python",
   "name": "python3"
  },
  "language_info": {
   "codemirror_mode": {
    "name": "ipython",
    "version": 3
   },
   "file_extension": ".py",
   "mimetype": "text/x-python",
   "name": "python",
   "nbconvert_exporter": "python",
   "pygments_lexer": "ipython3",
   "version": "3.9.6"
  }
 },
 "nbformat": 4,
 "nbformat_minor": 5
}
