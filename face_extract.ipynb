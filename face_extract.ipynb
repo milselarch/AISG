{
 "cells": [
  {
   "cell_type": "code",
   "execution_count": 1,
   "id": "dea1f57c",
   "metadata": {},
   "outputs": [],
   "source": [
    "# import ParentImport\n",
    "import datasets\n",
    "import torchvision.transforms as transforms\n",
    "import face_recognition\n",
    "import pandas as pd\n",
    "import torch\n",
    "\n",
    "from tqdm.auto import tqdm\n",
    "from matplotlib.pyplot import imshow\n",
    "# from trainer import Trainer"
   ]
  },
  {
   "cell_type": "code",
   "execution_count": 2,
   "id": "8b8e6dd9",
   "metadata": {},
   "outputs": [
    {
     "name": "stdout",
     "output_type": "stream",
     "text": [
      "TRAIN SIZE 6248\n",
      "TEXT SIZE 695\n"
     ]
    },
    {
     "data": {
      "text/plain": [
       "0       9a22372d22a52397.mp4\n",
       "1       9bc4f1306bb8e2cd.mp4\n",
       "2       88fe2a902a9d8cc7.mp4\n",
       "3       1f3cbda142d0944a.mp4\n",
       "4       63bed62257daccaf.mp4\n",
       "                ...         \n",
       "6938    f5c4bfb20068f129.mp4\n",
       "6939    b7b7b7f6db7f6e2e.mp4\n",
       "6940    c3fc75289ae3b41e.mp4\n",
       "6941    519e97d4c90aaa1c.mp4\n",
       "6942    38cd7b295a5cfda5.mp4\n",
       "Name: filename, Length: 6943, dtype: object"
      ]
     },
     "execution_count": 2,
     "metadata": {},
     "output_type": "execute_result"
    }
   ],
   "source": [
    "dataset = datasets.Dataset(basedir='datasets')\n",
    "dataset.all_videos"
   ]
  },
  {
   "cell_type": "code",
   "execution_count": 3,
   "id": "cf5458e0",
   "metadata": {},
   "outputs": [
    {
     "name": "stdout",
     "output_type": "stream",
     "text": [
      "Empty DataFrame\n",
      "Columns: [filename, max_faces]\n",
      "Index: []\n"
     ]
    }
   ],
   "source": [
    "dataframe = pd.DataFrame(columns=['filename', 'max_faces'])\n",
    "print(dataframe.head())"
   ]
  },
  {
   "cell_type": "code",
   "execution_count": 4,
   "id": "a04b0f44",
   "metadata": {},
   "outputs": [
    {
     "name": "stdout",
     "output_type": "stream",
     "text": [
      "6248 ['9bc513e4e366b7d8.mp4' '19ae26f7f3db51fa.mp4' '26ec4ef1a1899c3f.mp4'\n",
      " '87060023c00b28c4.mp4' 'ed3660460cb08780.mp4']\n",
      "695 ['fb1d15ce0eb1e68c.mp4' '8f7ecc23e031b829.mp4' '05f01e4183c6d94b.mp4'\n",
      " 'a9e6dcab69d29b90.mp4' '525b5d9ca25afeb6.mp4']\n"
     ]
    }
   ],
   "source": [
    "print(len(dataset.train_videos), dataset.train_videos[:5])\n",
    "print(len(dataset.test_videos), dataset.test_videos[:5])\n",
    "vidobj = dataset.read_video('9bc513e4e366b7d8.mp4', every_n_frames=20, rescale=0.1)"
   ]
  },
  {
   "cell_type": "code",
   "execution_count": 5,
   "id": "736e323e",
   "metadata": {},
   "outputs": [
    {
     "name": "stdout",
     "output_type": "stream",
     "text": [
      "(192, 108, 3)\n",
      "[(39, 66, 101, 4)]\n",
      "(62, 62, 3)\n"
     ]
    },
    {
     "data": {
      "text/plain": [
       "<matplotlib.image.AxesImage at 0x7fbbf32eb460>"
      ]
     },
     "execution_count": 5,
     "metadata": {},
     "output_type": "execute_result"
    },
    {
     "data": {
      "image/png": "[encoded data removed]",
      "text/plain": [
       "<Figure size 432x288 with 1 Axes>"
      ]
     },
     "metadata": {
      "needs_background": "light"
     },
     "output_type": "display_data"
    }
   ],
   "source": [
    "image = vidobj.out_video[9]\n",
    "print(image.shape)\n",
    "face_locations = face_recognition.face_locations(image)\n",
    "print(face_locations)\n",
    "loc1 = face_locations[0]\n",
    "\n",
    "top, right, bottom, left = loc1\n",
    "# print(image)\n",
    "crop_image = image[top:bottom, left:right]\n",
    "print(crop_image.shape)\n",
    "%matplotlib inline\n",
    "imshow(crop_image)"
   ]
  },
  {
   "cell_type": "code",
   "execution_count": 6,
   "id": "9d939907",
   "metadata": {},
   "outputs": [
    {
     "data": {
      "application/vnd.jupyter.widget-view+json": {
       "model_id": "9e1a283ebca34bc1886ca71087f0b400",
       "version_major": 2,
       "version_minor": 0
      },
      "text/plain": [
       "  0%|          | 0/100 [00:00<?, ?it/s]"
      ]
     },
     "metadata": {},
     "output_type": "display_data"
    },
    {
     "name": "stdout",
     "output_type": "stream",
     "text": [
      "READ 0 9a22372d22a52397.mp4 1 0.8823529411764706\n",
      "READ 1 9bc4f1306bb8e2cd.mp4 1 0.8235294117647058\n",
      "READ 2 88fe2a902a9d8cc7.mp4 1 0.9411764705882353\n",
      "READ 3 1f3cbda142d0944a.mp4 1 0.8823529411764706\n",
      "READ 4 63bed62257daccaf.mp4 1 1.0\n",
      "READ 5 ee8e8d4a59a95d5f.mp4 1 1.0\n",
      "READ 6 04011d0f6efa6d85.mp4 1 1.0\n",
      "READ 7 cbcf9320b4e4d9f9.mp4 1 1.0\n",
      "READ 8 262a25215787616d.mp4 0 0.0\n",
      "READ 9 fbca2df503111454.mp4 0 0.0\n",
      "READ 10 9149e78016d11aeb.mp4 0 0.0\n",
      "READ 11 eacc6b7d3bdb8b39.mp4 0 0.0\n",
      "READ 12 026646a4eb385e50.mp4 0 0.0\n",
      "READ 13 8d2db652940a8dc8.mp4 0 0.0\n",
      "READ 14 baf6dcb6e2196efa.mp4 0 0.0\n",
      "READ 15 2c33dc22e961f0d7.mp4 1 1.0\n",
      "READ 16 e4ed78bc2aa92b40.mp4 0 0.0\n",
      "READ 17 77fb2d049f234fbd.mp4 1 1.0\n",
      "READ 18 5fb85b52c7d4d045.mp4 1 1.0\n",
      "READ 19 c0ed568e0489acd1.mp4 1 1.0\n",
      "READ 20 1ddf59260ed2749f.mp4 1 0.23529411764705882\n",
      "READ 21 f1bcde07aba6649e.mp4 1 0.29411764705882354\n",
      "READ 22 975ff2ad09647e57.mp4 0 0.0\n",
      "READ 23 bfe0f53abccde244.mp4 1 0.11764705882352941\n",
      "READ 24 386b9e08d7f2baf4.mp4 0 0.0\n",
      "READ 25 3b045995aee69601.mp4 0 0.0\n",
      "READ 26 3b02486d824f470b.mp4 0 0.0\n",
      "READ 27 89fb00a09c49b44c.mp4 0 0.0\n",
      "READ 28 88fe233425f6e6b6.mp4 0 0.0\n",
      "READ 29 f1915a98a84d154b.mp4 0 0.0\n",
      "READ 30 035ad1ac3eb9e3e7.mp4 0 0.0\n",
      "READ 31 c15f3cb6728ab9f2.mp4 0 0.0\n",
      "READ 32 36b73c45c8e01514.mp4 0 0.0\n",
      "READ 33 047c8d60a75d5e59.mp4 0 0.0\n",
      "READ 34 cdc317863a82c2c9.mp4 0 0.0\n",
      "READ 35 e39a5b7f32cac303.mp4 1 0.5\n",
      "READ 36 8a4d06b698cfea16.mp4 1 0.5\n",
      "READ 37 e1105004189e4b39.mp4 0 0.0\n",
      "READ 38 1807f753837df5a1.mp4 1 0.5\n",
      "READ 39 e81c5cbb5ca16cc3.mp4 1 0.5\n",
      "READ 40 f57735aa6231b067.mp4 1 1.0\n",
      "READ 41 4ef85974dc0584ad.mp4 1 1.0\n",
      "READ 42 3d01783e1190e18f.mp4 1 1.0\n",
      "READ 43 28cc06c054807783.mp4 1 1.0\n",
      "READ 44 e11529fa346c69f3.mp4 1 1.0\n",
      "READ 45 1917a8fbc0dfcfa5.mp4 0 0.0\n",
      "READ 46 b49a0907a4e02aa2.mp4 0 0.0\n",
      "READ 47 e2452a43f4fe6e9f.mp4 0 0.0\n",
      "READ 48 192ddca933988c58.mp4 0 0.0\n",
      "READ 49 5d0fac35f03a4857.mp4 0 0.0\n",
      "READ 50 6fee5801f848fba1.mp4 0 0.0\n",
      "READ 51 b3a54cb8021573aa.mp4 0 0.0\n",
      "READ 52 0f7996602ac6d3f7.mp4 0 0.0\n",
      "READ 53 5ff23fdf7686fe7c.mp4 0 0.0\n",
      "READ 54 183a96bbf2274499.mp4 0 0.0\n",
      "READ 55 f0d0282ba659ba75.mp4 0 0.0\n",
      "READ 56 108e6f471663a28f.mp4 0 0.0\n",
      "READ 57 627da5ace3968cd7.mp4 0 0.0\n",
      "READ 58 381373616ace365e.mp4 0 0.0\n",
      "READ 59 fcf0b8602142a3e6.mp4 0 0.0\n",
      "READ 60 2f84ad790fb663c3.mp4 1 1.0\n",
      "READ 61 dddc115f2cfaa114.mp4 1 0.3076923076923077\n",
      "READ 62 dfbe8e9b46aa95f2.mp4 1 1.0\n",
      "READ 63 b8397ecd1918d8c7.mp4 1 1.0\n",
      "READ 64 22242961a36560ba.mp4 1 1.0\n",
      "READ 65 efe7113fb2ff3225.mp4 0 0.0\n",
      "READ 66 7ac279e244bfe17f.mp4 0 0.0\n",
      "READ 67 05cfe3a5d0acdaa9.mp4 0 0.0\n",
      "READ 68 4c7db532afa41af1.mp4 0 0.0\n",
      "READ 69 8e4ecd88a1a32974.mp4 0 0.0\n",
      "READ 70 d280919227bf9530.mp4 0 0.0\n",
      "READ 71 41565a8f11a0d63c.mp4 0 0.0\n",
      "READ 72 366f382d9f4d7ea6.mp4 0 0.0\n",
      "READ 73 9a22b1fb44ee032f.mp4 0 0.0\n",
      "READ 74 c7c32926e3a403fc.mp4 0 0.0\n",
      "READ 75 93177ecc2a4b0060.mp4 1 1.0\n",
      "READ 76 c8e22f6e4f308c5e.mp4 1 1.0\n",
      "READ 77 23bf6c3d48952a70.mp4 1 1.0\n",
      "READ 78 2c7d2bf217ffd9f3.mp4 1 0.9523809523809523\n",
      "READ 79 f6f69793f982d2da.mp4 0 0.0\n",
      "READ 80 911f7bd7f62e18d6.mp4 0 0.0\n",
      "READ 81 4ce8595720eac4e5.mp4 0 0.0\n",
      "READ 82 dc276552da7ef079.mp4 0 0.0\n",
      "READ 83 4c50a2f06eae536b.mp4 0 0.0\n",
      "READ 84 ef175aa993c44e5e.mp4 0 0.0\n",
      "READ 85 a1515ed9aa41489f.mp4 1 0.8285714285714286\n",
      "READ 86 50e6eb5f8ceec973.mp4 1 0.8571428571428571\n",
      "READ 87 27e03d744cc25afa.mp4 1 0.5428571428571428\n",
      "READ 88 f90c39e6ba758600.mp4 1 0.8285714285714286\n",
      "READ 89 2994564ffccb3a2a.mp4 0 0.0\n",
      "READ 90 0b85531572aee582.mp4 1 0.3157894736842105\n",
      "READ 91 6bab0d9196de4ebb.mp4 1 0.3684210526315789\n",
      "READ 92 1458557cc9217580.mp4 0 0.0\n",
      "READ 93 903ded79ce931fc2.mp4 1 0.3684210526315789\n",
      "READ 94 81bc4a422e468d62.mp4 1 0.21052631578947367\n",
      "READ 95 0c6261142218ab7a.mp4 0 0.0\n",
      "READ 96 e068972e1fe698a2.mp4 0 0.0\n",
      "READ 97 a898daf4bce7144a.mp4 0 0.0\n",
      "READ 98 aa242f5de4417b97.mp4 0 0.0\n",
      "READ 99 41a9c285a336f1f9.mp4 0 0.0\n"
     ]
    }
   ],
   "source": [
    "max_face_mapping = {}\n",
    "length = 100 # len(dataset.all_videos)\n",
    "\n",
    "for k in tqdm(range(length)):\n",
    "    filename = dataset.all_videos[k]\n",
    "    # print(k, filename)\n",
    "    try:\n",
    "        vidobj = dataset.read_video(filename, every_n_frames=20, rescale=0.1)\n",
    "    except ValueError as e:\n",
    "        print('FAILED TO READ', k, filename)\n",
    "        continue\n",
    "\n",
    "    np_frames = vidobj.out_video\n",
    "    num_frames = len(np_frames)\n",
    "    detections = 0\n",
    "    max_faces = 0\n",
    "    \n",
    "    for i in range(len(np_frames)):\n",
    "        image = np_frames[i]\n",
    "        face_locations = face_recognition.face_locations(image)\n",
    "        faces = len(face_locations)\n",
    "        max_faces = max(max_faces, faces)\n",
    "        \n",
    "        if faces > 0:\n",
    "            detections += 1\n",
    "    \n",
    "    p_detection = detections / num_frames\n",
    "    max_face_mapping[filename] = (max_faces, p_detection)\n",
    "    print('READ', k, filename, max_faces, p_detection)\n"
   ]
  },
  {
   "cell_type": "code",
   "execution_count": 13,
   "id": "13f083d9",
   "metadata": {},
   "outputs": [],
   "source": [
    "import json\n",
    "\n",
    "with open('face_map_stats.json', 'w') as fp:\n",
    "    json.dump(max_face_mapping, fp, indent=4)"
   ]
  },
  {
   "cell_type": "code",
   "execution_count": 8,
   "id": "8806dfba",
   "metadata": {},
   "outputs": [
    {
     "name": "stderr",
     "output_type": "stream",
     "text": [
      "[mov,mp4,m4a,3gp,3g2,mj2 @ 0xde024c0] moov atom not found\n",
      "/home/milselarch/projects/AISG/loader.py:61: RuntimeWarning: divide by zero encountered in true_divide\n",
      "  rescale = rescale * 1920. / np.max((width_in, height_in))\n",
      "/home/milselarch/projects/AISG/loader.py:63: RuntimeWarning: invalid value encountered in double_scalars\n",
      "  width_out = int(width_in * rescale) if rescale else width_in\n"
     ]
    },
    {
     "ename": "ValueError",
     "evalue": "cannot convert float NaN to integer",
     "output_type": "error",
     "traceback": [
      "\u001b[0;31m---------------------------------------------------------------------------\u001b[0m",
      "\u001b[0;31mValueError\u001b[0m                                Traceback (most recent call last)",
      "\u001b[0;32m/tmp/ipykernel_1916632/2316112550.py\u001b[0m in \u001b[0;36m<module>\u001b[0;34m\u001b[0m\n\u001b[0;32m----> 1\u001b[0;31m \u001b[0mdataset\u001b[0m\u001b[0;34m.\u001b[0m\u001b[0mread_video\u001b[0m\u001b[0;34m(\u001b[0m\u001b[0;34m'a161b256a9dcd783.mp4'\u001b[0m\u001b[0;34m,\u001b[0m \u001b[0mevery_n_frames\u001b[0m\u001b[0;34m=\u001b[0m\u001b[0;36m10\u001b[0m\u001b[0;34m,\u001b[0m \u001b[0mrescale\u001b[0m\u001b[0;34m=\u001b[0m\u001b[0;36m0.1\u001b[0m\u001b[0;34m)\u001b[0m\u001b[0;34m\u001b[0m\u001b[0;34m\u001b[0m\u001b[0m\n\u001b[0m",
      "\u001b[0;32m~/projects/AISG/datasets.py\u001b[0m in \u001b[0;36mread_video\u001b[0;34m(self, filename, *args, **kwargs)\u001b[0m\n\u001b[1;32m     45\u001b[0m     \u001b[0;32mdef\u001b[0m \u001b[0mread_video\u001b[0m\u001b[0;34m(\u001b[0m\u001b[0mself\u001b[0m\u001b[0;34m,\u001b[0m \u001b[0mfilename\u001b[0m\u001b[0;34m,\u001b[0m \u001b[0;34m*\u001b[0m\u001b[0margs\u001b[0m\u001b[0;34m,\u001b[0m \u001b[0;34m**\u001b[0m\u001b[0mkwargs\u001b[0m\u001b[0;34m)\u001b[0m\u001b[0;34m:\u001b[0m\u001b[0;34m\u001b[0m\u001b[0;34m\u001b[0m\u001b[0m\n\u001b[1;32m     46\u001b[0m         \u001b[0mvideo_capture\u001b[0m \u001b[0;34m=\u001b[0m \u001b[0mself\u001b[0m\u001b[0;34m.\u001b[0m\u001b[0mload_video\u001b[0m\u001b[0;34m(\u001b[0m\u001b[0mfilename\u001b[0m\u001b[0;34m)\u001b[0m\u001b[0;34m\u001b[0m\u001b[0;34m\u001b[0m\u001b[0m\n\u001b[0;32m---> 47\u001b[0;31m         video_arr = loader.load_video(\n\u001b[0m\u001b[1;32m     48\u001b[0m             \u001b[0mvideo_capture\u001b[0m\u001b[0;34m,\u001b[0m \u001b[0mfilename\u001b[0m\u001b[0;34m=\u001b[0m\u001b[0mfilename\u001b[0m\u001b[0;34m,\u001b[0m \u001b[0;34m*\u001b[0m\u001b[0margs\u001b[0m\u001b[0;34m,\u001b[0m \u001b[0;34m**\u001b[0m\u001b[0mkwargs\u001b[0m\u001b[0;34m\u001b[0m\u001b[0;34m\u001b[0m\u001b[0m\n\u001b[1;32m     49\u001b[0m         )\n",
      "\u001b[0;32m~/projects/AISG/loader.py\u001b[0m in \u001b[0;36mload_video\u001b[0;34m(cap, every_n_frames, specific_frames, to_rgb, rescale, inc_pil, max_frames, release, filename)\u001b[0m\n\u001b[1;32m     61\u001b[0m         \u001b[0mrescale\u001b[0m \u001b[0;34m=\u001b[0m \u001b[0mrescale\u001b[0m \u001b[0;34m*\u001b[0m \u001b[0;36m1920.\u001b[0m \u001b[0;34m/\u001b[0m \u001b[0mnp\u001b[0m\u001b[0;34m.\u001b[0m\u001b[0mmax\u001b[0m\u001b[0;34m(\u001b[0m\u001b[0;34m(\u001b[0m\u001b[0mwidth_in\u001b[0m\u001b[0;34m,\u001b[0m \u001b[0mheight_in\u001b[0m\u001b[0;34m)\u001b[0m\u001b[0;34m)\u001b[0m\u001b[0;34m\u001b[0m\u001b[0;34m\u001b[0m\u001b[0m\n\u001b[1;32m     62\u001b[0m \u001b[0;34m\u001b[0m\u001b[0m\n\u001b[0;32m---> 63\u001b[0;31m     \u001b[0mwidth_out\u001b[0m \u001b[0;34m=\u001b[0m \u001b[0mint\u001b[0m\u001b[0;34m(\u001b[0m\u001b[0mwidth_in\u001b[0m \u001b[0;34m*\u001b[0m \u001b[0mrescale\u001b[0m\u001b[0;34m)\u001b[0m \u001b[0;32mif\u001b[0m \u001b[0mrescale\u001b[0m \u001b[0;32melse\u001b[0m \u001b[0mwidth_in\u001b[0m\u001b[0;34m\u001b[0m\u001b[0;34m\u001b[0m\u001b[0m\n\u001b[0m\u001b[1;32m     64\u001b[0m     \u001b[0mheight_out\u001b[0m \u001b[0;34m=\u001b[0m \u001b[0mint\u001b[0m\u001b[0;34m(\u001b[0m\u001b[0mheight_in\u001b[0m \u001b[0;34m*\u001b[0m \u001b[0mrescale\u001b[0m\u001b[0;34m)\u001b[0m \u001b[0;32mif\u001b[0m \u001b[0mrescale\u001b[0m \u001b[0;32melse\u001b[0m \u001b[0mheight_in\u001b[0m\u001b[0;34m\u001b[0m\u001b[0;34m\u001b[0m\u001b[0m\n\u001b[1;32m     65\u001b[0m \u001b[0;34m\u001b[0m\u001b[0m\n",
      "\u001b[0;31mValueError\u001b[0m: cannot convert float NaN to integer"
     ]
    }
   ],
   "source": [
    "dataset.read_video('a161b256a9dcd783.mp4', every_n_frames=10, rescale=0.1)"
   ]
  },
  {
   "cell_type": "code",
   "execution_count": null,
   "id": "1a6d0346",
   "metadata": {},
   "outputs": [],
   "source": []
  }
 ],
 "metadata": {
  "kernelspec": {
   "display_name": "Python 3",
   "language": "python",
   "name": "python3"
  },
  "language_info": {
   "codemirror_mode": {
    "name": "ipython",
    "version": 3
   },
   "file_extension": ".py",
   "mimetype": "text/x-python",
   "name": "python",
   "nbconvert_exporter": "python",
   "pygments_lexer": "ipython3",
   "version": "3.9.6"
  }
 },
 "nbformat": 4,
 "nbformat_minor": 5
}
