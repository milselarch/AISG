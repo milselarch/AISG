{
 "cells": [
  {
   "cell_type": "code",
   "execution_count": 1,
   "id": "929171e8",
   "metadata": {},
   "outputs": [],
   "source": [
    "from IPython.display import display, HTML\n",
    "from sklearn.linear_model import LogisticRegression\n",
    "from sklearn.linear_model import LogisticRegressionCV\n",
    "from sklearn.linear_model import SGDClassifier\n",
    "\n",
    "from sklearn.model_selection import train_test_split\n",
    "\n",
    "import matplotlib.pyplot as plt\n",
    "import pandas as pd\n",
    "import numpy as np\n",
    "import sklearn.metrics\n",
    "import sklearn"
   ]
  },
  {
   "cell_type": "code",
   "execution_count": 2,
   "id": "c2ecc49b",
   "metadata": {},
   "outputs": [
    {
     "data": {
      "text/html": [
       "<div>\n",
       "<style scoped>\n",
       "    .dataframe tbody tr th:only-of-type {\n",
       "        vertical-align: middle;\n",
       "    }\n",
       "\n",
       "    .dataframe tbody tr th {\n",
       "        vertical-align: top;\n",
       "    }\n",
       "\n",
       "    .dataframe thead th {\n",
       "        text-align: right;\n",
       "    }\n",
       "</style>\n",
       "<table border=\"1\" class=\"dataframe\">\n",
       "  <thead>\n",
       "    <tr style=\"text-align: right;\">\n",
       "      <th></th>\n",
       "      <th>filename</th>\n",
       "      <th>label</th>\n",
       "      <th>audio_fake</th>\n",
       "      <th>face_fake</th>\n",
       "      <th>swap_fake</th>\n",
       "      <th>both_fake</th>\n",
       "    </tr>\n",
       "  </thead>\n",
       "  <tbody>\n",
       "    <tr>\n",
       "      <th>0</th>\n",
       "      <td>9a22372d22a52397.mp4</td>\n",
       "      <td>1</td>\n",
       "      <td>1.0</td>\n",
       "      <td>1.0</td>\n",
       "      <td>0</td>\n",
       "      <td>1</td>\n",
       "    </tr>\n",
       "    <tr>\n",
       "      <th>1</th>\n",
       "      <td>9bc4f1306bb8e2cd.mp4</td>\n",
       "      <td>1</td>\n",
       "      <td>1.0</td>\n",
       "      <td>1.0</td>\n",
       "      <td>0</td>\n",
       "      <td>1</td>\n",
       "    </tr>\n",
       "    <tr>\n",
       "      <th>2</th>\n",
       "      <td>88fe2a902a9d8cc7.mp4</td>\n",
       "      <td>1</td>\n",
       "      <td>1.0</td>\n",
       "      <td>1.0</td>\n",
       "      <td>0</td>\n",
       "      <td>1</td>\n",
       "    </tr>\n",
       "    <tr>\n",
       "      <th>3</th>\n",
       "      <td>1f3cbda142d0944a.mp4</td>\n",
       "      <td>1</td>\n",
       "      <td>1.0</td>\n",
       "      <td>1.0</td>\n",
       "      <td>0</td>\n",
       "      <td>1</td>\n",
       "    </tr>\n",
       "    <tr>\n",
       "      <th>4</th>\n",
       "      <td>63bed62257daccaf.mp4</td>\n",
       "      <td>1</td>\n",
       "      <td>1.0</td>\n",
       "      <td>1.0</td>\n",
       "      <td>0</td>\n",
       "      <td>1</td>\n",
       "    </tr>\n",
       "    <tr>\n",
       "      <th>...</th>\n",
       "      <td>...</td>\n",
       "      <td>...</td>\n",
       "      <td>...</td>\n",
       "      <td>...</td>\n",
       "      <td>...</td>\n",
       "      <td>...</td>\n",
       "    </tr>\n",
       "    <tr>\n",
       "      <th>6938</th>\n",
       "      <td>f5c4bfb20068f129.mp4</td>\n",
       "      <td>0</td>\n",
       "      <td>0.0</td>\n",
       "      <td>0.0</td>\n",
       "      <td>0</td>\n",
       "      <td>0</td>\n",
       "    </tr>\n",
       "    <tr>\n",
       "      <th>6939</th>\n",
       "      <td>b7b7b7f6db7f6e2e.mp4</td>\n",
       "      <td>0</td>\n",
       "      <td>0.0</td>\n",
       "      <td>0.0</td>\n",
       "      <td>0</td>\n",
       "      <td>0</td>\n",
       "    </tr>\n",
       "    <tr>\n",
       "      <th>6940</th>\n",
       "      <td>c3fc75289ae3b41e.mp4</td>\n",
       "      <td>0</td>\n",
       "      <td>0.0</td>\n",
       "      <td>0.0</td>\n",
       "      <td>0</td>\n",
       "      <td>0</td>\n",
       "    </tr>\n",
       "    <tr>\n",
       "      <th>6941</th>\n",
       "      <td>519e97d4c90aaa1c.mp4</td>\n",
       "      <td>0</td>\n",
       "      <td>0.0</td>\n",
       "      <td>0.0</td>\n",
       "      <td>0</td>\n",
       "      <td>0</td>\n",
       "    </tr>\n",
       "    <tr>\n",
       "      <th>6942</th>\n",
       "      <td>38cd7b295a5cfda5.mp4</td>\n",
       "      <td>0</td>\n",
       "      <td>0.0</td>\n",
       "      <td>0.0</td>\n",
       "      <td>0</td>\n",
       "      <td>0</td>\n",
       "    </tr>\n",
       "  </tbody>\n",
       "</table>\n",
       "<p>6943 rows × 6 columns</p>\n",
       "</div>"
      ],
      "text/plain": [
       "                  filename  label  audio_fake  face_fake  swap_fake  both_fake\n",
       "0     9a22372d22a52397.mp4      1         1.0        1.0          0          1\n",
       "1     9bc4f1306bb8e2cd.mp4      1         1.0        1.0          0          1\n",
       "2     88fe2a902a9d8cc7.mp4      1         1.0        1.0          0          1\n",
       "3     1f3cbda142d0944a.mp4      1         1.0        1.0          0          1\n",
       "4     63bed62257daccaf.mp4      1         1.0        1.0          0          1\n",
       "...                    ...    ...         ...        ...        ...        ...\n",
       "6938  f5c4bfb20068f129.mp4      0         0.0        0.0          0          0\n",
       "6939  b7b7b7f6db7f6e2e.mp4      0         0.0        0.0          0          0\n",
       "6940  c3fc75289ae3b41e.mp4      0         0.0        0.0          0          0\n",
       "6941  519e97d4c90aaa1c.mp4      0         0.0        0.0          0          0\n",
       "6942  38cd7b295a5cfda5.mp4      0         0.0        0.0          0          0\n",
       "\n",
       "[6943 rows x 6 columns]"
      ]
     },
     "metadata": {},
     "output_type": "display_data"
    }
   ],
   "source": [
    "labels_df = pd.read_csv('../stats/all-labels.csv')\n",
    "display(labels_df)"
   ]
  },
  {
   "cell_type": "code",
   "execution_count": 3,
   "id": "e8f842fd",
   "metadata": {},
   "outputs": [
    {
     "data": {
      "text/html": [
       "<div>\n",
       "<style scoped>\n",
       "    .dataframe tbody tr th:only-of-type {\n",
       "        vertical-align: middle;\n",
       "    }\n",
       "\n",
       "    .dataframe tbody tr th {\n",
       "        vertical-align: top;\n",
       "    }\n",
       "\n",
       "    .dataframe thead th {\n",
       "        text-align: right;\n",
       "    }\n",
       "</style>\n",
       "<table border=\"1\" class=\"dataframe\">\n",
       "  <thead>\n",
       "    <tr style=\"text-align: right;\">\n",
       "      <th></th>\n",
       "      <th>filename</th>\n",
       "      <th>label</th>\n",
       "      <th>audio_fake</th>\n",
       "      <th>face_fake</th>\n",
       "      <th>swap_fake</th>\n",
       "      <th>both_fake</th>\n",
       "      <th>mean_pred</th>\n",
       "      <th>median_pred</th>\n",
       "      <th>1st_quartile_pred</th>\n",
       "      <th>3rd_quartile_pred</th>\n",
       "      <th>face_no</th>\n",
       "      <th>diff</th>\n",
       "    </tr>\n",
       "  </thead>\n",
       "  <tbody>\n",
       "    <tr>\n",
       "      <th>0</th>\n",
       "      <td>18351609de111566.mp4</td>\n",
       "      <td>1</td>\n",
       "      <td>0.0</td>\n",
       "      <td>0.0</td>\n",
       "      <td>1</td>\n",
       "      <td>0</td>\n",
       "      <td>12.825241</td>\n",
       "      <td>13.171495</td>\n",
       "      <td>9.604192</td>\n",
       "      <td>14.841698</td>\n",
       "      <td>0</td>\n",
       "      <td>-0.346254</td>\n",
       "    </tr>\n",
       "    <tr>\n",
       "      <th>1</th>\n",
       "      <td>5026338ed12800bc.mp4</td>\n",
       "      <td>1</td>\n",
       "      <td>0.0</td>\n",
       "      <td>0.0</td>\n",
       "      <td>1</td>\n",
       "      <td>0</td>\n",
       "      <td>12.226965</td>\n",
       "      <td>12.586184</td>\n",
       "      <td>9.006733</td>\n",
       "      <td>14.791941</td>\n",
       "      <td>0</td>\n",
       "      <td>-0.359219</td>\n",
       "    </tr>\n",
       "    <tr>\n",
       "      <th>2</th>\n",
       "      <td>5968740ef3396f0c.mp4</td>\n",
       "      <td>1</td>\n",
       "      <td>0.0</td>\n",
       "      <td>0.0</td>\n",
       "      <td>1</td>\n",
       "      <td>0</td>\n",
       "      <td>12.619064</td>\n",
       "      <td>12.806955</td>\n",
       "      <td>9.320196</td>\n",
       "      <td>14.131991</td>\n",
       "      <td>0</td>\n",
       "      <td>-0.187891</td>\n",
       "    </tr>\n",
       "    <tr>\n",
       "      <th>3</th>\n",
       "      <td>50e301013618719d.mp4</td>\n",
       "      <td>1</td>\n",
       "      <td>0.0</td>\n",
       "      <td>0.0</td>\n",
       "      <td>1</td>\n",
       "      <td>0</td>\n",
       "      <td>13.723406</td>\n",
       "      <td>13.448393</td>\n",
       "      <td>11.882830</td>\n",
       "      <td>15.546733</td>\n",
       "      <td>0</td>\n",
       "      <td>0.275013</td>\n",
       "    </tr>\n",
       "    <tr>\n",
       "      <th>4</th>\n",
       "      <td>bc6dd15cfdfe6175.mp4</td>\n",
       "      <td>1</td>\n",
       "      <td>0.0</td>\n",
       "      <td>0.0</td>\n",
       "      <td>1</td>\n",
       "      <td>0</td>\n",
       "      <td>13.020068</td>\n",
       "      <td>12.643965</td>\n",
       "      <td>10.748637</td>\n",
       "      <td>15.424719</td>\n",
       "      <td>0</td>\n",
       "      <td>0.376103</td>\n",
       "    </tr>\n",
       "    <tr>\n",
       "      <th>...</th>\n",
       "      <td>...</td>\n",
       "      <td>...</td>\n",
       "      <td>...</td>\n",
       "      <td>...</td>\n",
       "      <td>...</td>\n",
       "      <td>...</td>\n",
       "      <td>...</td>\n",
       "      <td>...</td>\n",
       "      <td>...</td>\n",
       "      <td>...</td>\n",
       "      <td>...</td>\n",
       "      <td>...</td>\n",
       "    </tr>\n",
       "    <tr>\n",
       "      <th>394</th>\n",
       "      <td>951ee63325b9c303.mp4</td>\n",
       "      <td>0</td>\n",
       "      <td>0.0</td>\n",
       "      <td>0.0</td>\n",
       "      <td>0</td>\n",
       "      <td>0</td>\n",
       "      <td>12.421661</td>\n",
       "      <td>13.052989</td>\n",
       "      <td>9.590781</td>\n",
       "      <td>15.430199</td>\n",
       "      <td>0</td>\n",
       "      <td>-0.631328</td>\n",
       "    </tr>\n",
       "    <tr>\n",
       "      <th>395</th>\n",
       "      <td>2ffa046041106046.mp4</td>\n",
       "      <td>0</td>\n",
       "      <td>0.0</td>\n",
       "      <td>0.0</td>\n",
       "      <td>0</td>\n",
       "      <td>0</td>\n",
       "      <td>11.785560</td>\n",
       "      <td>11.611810</td>\n",
       "      <td>9.470455</td>\n",
       "      <td>13.838875</td>\n",
       "      <td>0</td>\n",
       "      <td>0.173750</td>\n",
       "    </tr>\n",
       "    <tr>\n",
       "      <th>396</th>\n",
       "      <td>2810f7be925ccbfc.mp4</td>\n",
       "      <td>0</td>\n",
       "      <td>0.0</td>\n",
       "      <td>0.0</td>\n",
       "      <td>0</td>\n",
       "      <td>0</td>\n",
       "      <td>14.275546</td>\n",
       "      <td>14.084501</td>\n",
       "      <td>11.742726</td>\n",
       "      <td>17.004413</td>\n",
       "      <td>0</td>\n",
       "      <td>0.191045</td>\n",
       "    </tr>\n",
       "    <tr>\n",
       "      <th>397</th>\n",
       "      <td>8dbb4de72c27723a.mp4</td>\n",
       "      <td>0</td>\n",
       "      <td>0.0</td>\n",
       "      <td>0.0</td>\n",
       "      <td>0</td>\n",
       "      <td>0</td>\n",
       "      <td>10.553819</td>\n",
       "      <td>9.647387</td>\n",
       "      <td>8.541011</td>\n",
       "      <td>13.345322</td>\n",
       "      <td>0</td>\n",
       "      <td>0.906432</td>\n",
       "    </tr>\n",
       "    <tr>\n",
       "      <th>398</th>\n",
       "      <td>519e97d4c90aaa1c.mp4</td>\n",
       "      <td>0</td>\n",
       "      <td>0.0</td>\n",
       "      <td>0.0</td>\n",
       "      <td>0</td>\n",
       "      <td>0</td>\n",
       "      <td>12.489964</td>\n",
       "      <td>12.026876</td>\n",
       "      <td>10.334816</td>\n",
       "      <td>14.642966</td>\n",
       "      <td>0</td>\n",
       "      <td>0.463088</td>\n",
       "    </tr>\n",
       "  </tbody>\n",
       "</table>\n",
       "<p>399 rows × 12 columns</p>\n",
       "</div>"
      ],
      "text/plain": [
       "                 filename  label  audio_fake  face_fake  swap_fake  both_fake  \\\n",
       "0    18351609de111566.mp4      1         0.0        0.0          1          0   \n",
       "1    5026338ed12800bc.mp4      1         0.0        0.0          1          0   \n",
       "2    5968740ef3396f0c.mp4      1         0.0        0.0          1          0   \n",
       "3    50e301013618719d.mp4      1         0.0        0.0          1          0   \n",
       "4    bc6dd15cfdfe6175.mp4      1         0.0        0.0          1          0   \n",
       "..                    ...    ...         ...        ...        ...        ...   \n",
       "394  951ee63325b9c303.mp4      0         0.0        0.0          0          0   \n",
       "395  2ffa046041106046.mp4      0         0.0        0.0          0          0   \n",
       "396  2810f7be925ccbfc.mp4      0         0.0        0.0          0          0   \n",
       "397  8dbb4de72c27723a.mp4      0         0.0        0.0          0          0   \n",
       "398  519e97d4c90aaa1c.mp4      0         0.0        0.0          0          0   \n",
       "\n",
       "     mean_pred  median_pred  1st_quartile_pred  3rd_quartile_pred  face_no  \\\n",
       "0    12.825241    13.171495           9.604192          14.841698        0   \n",
       "1    12.226965    12.586184           9.006733          14.791941        0   \n",
       "2    12.619064    12.806955           9.320196          14.131991        0   \n",
       "3    13.723406    13.448393          11.882830          15.546733        0   \n",
       "4    13.020068    12.643965          10.748637          15.424719        0   \n",
       "..         ...          ...                ...                ...      ...   \n",
       "394  12.421661    13.052989           9.590781          15.430199        0   \n",
       "395  11.785560    11.611810           9.470455          13.838875        0   \n",
       "396  14.275546    14.084501          11.742726          17.004413        0   \n",
       "397  10.553819     9.647387           8.541011          13.345322        0   \n",
       "398  12.489964    12.026876          10.334816          14.642966        0   \n",
       "\n",
       "         diff  \n",
       "0   -0.346254  \n",
       "1   -0.359219  \n",
       "2   -0.187891  \n",
       "3    0.275013  \n",
       "4    0.376103  \n",
       "..        ...  \n",
       "394 -0.631328  \n",
       "395  0.173750  \n",
       "396  0.191045  \n",
       "397  0.906432  \n",
       "398  0.463088  \n",
       "\n",
       "[399 rows x 12 columns]"
      ]
     },
     "metadata": {},
     "output_type": "display_data"
    }
   ],
   "source": [
    "joon_preds = pd.read_csv('../stats/sync-vid-preds-211115-2044.csv')\n",
    "joon_preds = joon_preds.groupby('filename', sort=False, as_index=False).agg(min)\n",
    "joon_preds = pd.merge(\n",
    "    left=labels_df, right=joon_preds, \n",
    "    left_on='filename', right_on='filename'\n",
    ")\n",
    "\n",
    "joon_preds['diff'] = joon_preds['mean_pred'] - joon_preds['median_pred']\n",
    "display(joon_preds)"
   ]
  },
  {
   "cell_type": "code",
   "execution_count": 13,
   "id": "1f7fb387",
   "metadata": {},
   "outputs": [
    {
     "name": "stdout",
     "output_type": "stream",
     "text": [
      "[0. 1. 1. 0. 1. 0. 0. 1. 1. 1. 0. 0. 1. 1. 0. 1. 1. 1. 0. 1. 1. 0. 1. 1.\n",
      " 0. 0. 1. 1. 1. 1. 0. 1. 0. 1. 1. 1. 1. 0. 1. 0. 0. 1. 0. 0. 1. 0. 1. 1.\n",
      " 0. 0. 0. 0. 1. 0. 0. 0. 0. 0. 0. 1. 1. 0. 0. 1. 0. 1. 0. 0. 1. 1. 0. 1.\n",
      " 1. 0. 0. 1. 1. 0. 0. 0. 0. 1. 0. 0. 0. 1. 0. 0. 0. 1. 0. 1. 1. 0. 1. 0.\n",
      " 1. 1. 1. 1. 1. 0. 1. 1. 1. 1. 1. 1. 0. 0. 0. 0. 0. 0. 0. 1. 0. 0. 0. 0.\n",
      " 1. 0. 1. 0. 1. 1. 1. 1. 1. 0. 1. 0. 0. 1. 1. 1. 1. 1. 1. 0. 1. 1. 0. 1.\n",
      " 0. 1. 1. 0. 1. 0. 0. 1. 1. 0. 1. 1. 1. 0. 0. 1. 0. 0. 0. 1. 0. 1. 1. 1.\n",
      " 1. 1. 1. 0. 0. 0. 1. 0. 0. 0. 0. 1. 0. 0. 0. 1. 0. 0. 1. 0. 1. 1. 0. 0.\n",
      " 1. 0. 0. 0. 1. 1. 0. 1. 1. 0. 1. 1. 1. 0. 0. 1. 0. 1. 1. 0. 0. 0. 1. 1.\n",
      " 0. 1. 0. 0. 0. 0. 0. 0. 0. 1. 1. 1. 0. 1. 0. 1. 1. 1. 0. 0. 0. 1. 0. 1.\n",
      " 0. 1. 1. 0. 0. 0. 1. 1. 0. 1. 0. 0. 0. 0. 1. 0. 0. 0. 1. 1. 1. 0. 1. 1.\n",
      " 0. 0. 1. 0. 0. 1. 0. 0. 1. 0. 0. 0. 1. 0. 1. 0. 0. 1. 0. 0. 0. 1. 1. 1.\n",
      " 0. 1. 0. 1. 1. 0. 1. 1. 0. 1. 0. 1. 1. 0. 0. 1. 0. 0. 1. 1. 0. 0. 0. 1.\n",
      " 1. 0. 1. 1. 1. 0. 1.]\n"
     ]
    }
   ],
   "source": [
    "X = joon_preds[['mean_pred', 'median_pred', '1st_quartile_pred', '3rd_quartile_pred']]\n",
    "X = X.to_numpy()\n",
    "Y = joon_preds['label'].to_numpy(dtype=float)\n",
    "\n",
    "indexes = np.arange(len(X))\n",
    "np.random.shuffle(indexes)\n",
    "# X = X[indexes]\n",
    "# Y = Y[indexes]\n",
    "\n",
    "X_train, X_test, y_train, y_test = train_test_split(\n",
    "    X, Y, test_size=0.2, random_state=69\n",
    ")\n",
    "print(y_train)"
   ]
  },
  {
   "cell_type": "code",
   "execution_count": 26,
   "id": "a61b6b2d",
   "metadata": {},
   "outputs": [
    {
     "name": "stdout",
     "output_type": "stream",
     "text": [
      "0.9348432074328801 0.9600476763257426\n"
     ]
    },
    {
     "data": {
      "image/png": "[encoded data removed]",
      "text/plain": [
       "<Figure size 864x360 with 1 Axes>"
      ]
     },
     "metadata": {},
     "output_type": "display_data"
    }
   ],
   "source": [
    "clf = LogisticRegression(random_state=42, multi_class='ovr').fit(X_train, y_train)\n",
    "y_train_pred = clf.predict_proba(X_train)[:, 1]\n",
    "y_test_pred = clf.predict_proba(X_test)[:, 1]\n",
    "# print(y_pred)\n",
    "\n",
    "plt.style.use('ggplot')\n",
    "plt.figure(figsize=(12, 5))\n",
    "plt.hist(y_test_pred, bins=50)\n",
    "plt.hist(y_train_pred, bins=50, alpha=0.5)\n",
    "print(max(y_train_pred), max(y_test_pred))"
   ]
  },
  {
   "cell_type": "code",
   "execution_count": 36,
   "id": "055e877b",
   "metadata": {},
   "outputs": [],
   "source": [
    "from scipy.stats import norm"
   ]
  },
  {
   "cell_type": "code",
   "execution_count": 55,
   "id": "4a26d32f",
   "metadata": {},
   "outputs": [
    {
     "name": "stdout",
     "output_type": "stream",
     "text": [
      "0.630653120220199\n",
      "0.630653120220199 0.20507943097922185\n"
     ]
    },
    {
     "data": {
      "image/png": "[encoded data removed]",
      "text/plain": [
       "<Figure size 432x288 with 1 Axes>"
      ]
     },
     "metadata": {},
     "output_type": "display_data"
    }
   ],
   "source": [
    "true_swap_preds = y_train_pred * y_train\n",
    "true_swap_preds = true_swap_preds[true_swap_preds != 0]\n",
    "print(np.mean(true_swap_preds))\n",
    "\n",
    "mu, std = norm.fit(true_swap_preds)\n",
    "plt.hist(true_swap_preds)\n",
    "x = np.linspace(0, 1, 100)\n",
    "p = norm.pdf(x, mu, std) * 16\n",
    "plt.plot(x, p, 'k', linewidth=2)\n",
    "print(mu, std)"
   ]
  },
  {
   "cell_type": "code",
   "execution_count": 35,
   "id": "bca2e50f",
   "metadata": {},
   "outputs": [
    {
     "name": "stdout",
     "output_type": "stream",
     "text": [
      "0.35794719001579256\n"
     ]
    },
    {
     "data": {
      "text/plain": [
       "(array([20., 31., 24., 21., 19., 14., 13.,  7.,  8.,  5.]),\n",
       " array([0.01842392, 0.11006585, 0.20170778, 0.29334971, 0.38499163,\n",
       "        0.47663356, 0.56827549, 0.65991742, 0.75155935, 0.84320128,\n",
       "        0.93484321]),\n",
       " <BarContainer object of 10 artists>)"
      ]
     },
     "execution_count": 35,
     "metadata": {},
     "output_type": "execute_result"
    },
    {
     "data": {
      "image/png": "[encoded data removed]",
      "text/plain": [
       "<Figure size 432x288 with 1 Axes>"
      ]
     },
     "metadata": {},
     "output_type": "display_data"
    }
   ],
   "source": [
    "true_real_preds = y_train_pred * (1 - y_train)\n",
    "true_real_preds = true_real_preds[true_real_preds != 0]\n",
    "print(np.mean(true_real_preds))\n",
    "plt.hist(true_real_preds)"
   ]
  },
  {
   "cell_type": "code",
   "execution_count": 20,
   "id": "ae663de2",
   "metadata": {},
   "outputs": [
    {
     "data": {
      "text/plain": [
       "[<matplotlib.lines.Line2D at 0x7fa39b605670>]"
      ]
     },
     "execution_count": 20,
     "metadata": {},
     "output_type": "execute_result"
    },
    {
     "data": {
      "image/png": "[encoded data removed]",
      "text/plain": [
       "<Figure size 864x360 with 1 Axes>"
      ]
     },
     "metadata": {},
     "output_type": "display_data"
    }
   ],
   "source": [
    "clip = -270\n",
    "fpr, tpr, _ = sklearn.metrics.roc_curve(y_train, y_train_pred)\n",
    "auc = sklearn.metrics.roc_auc_score(y_train, y_train_pred)\n",
    "\n",
    "plt.style.use('ggplot')\n",
    "plt.figure(figsize=(12, 5))\n",
    "plt.xlim([-0.02, 1.02])\n",
    "plt.ylim([-0.05, 1.05])\n",
    "plt.title(\"CV regression ROC. AUC=\"+str(round(auc, 10)))\n",
    "plt.plot(fpr, tpr)"
   ]
  },
  {
   "cell_type": "code",
   "execution_count": 19,
   "id": "3cefd451",
   "metadata": {},
   "outputs": [
    {
     "data": {
      "text/plain": [
       "[<matplotlib.lines.Line2D at 0x7fa39b69ebe0>]"
      ]
     },
     "execution_count": 19,
     "metadata": {},
     "output_type": "execute_result"
    },
    {
     "data": {
      "image/png": "[encoded data removed]",
      "text/plain": [
       "<Figure size 864x360 with 1 Axes>"
      ]
     },
     "metadata": {},
     "output_type": "display_data"
    }
   ],
   "source": [
    "clip = -270\n",
    "fpr, tpr, _ = sklearn.metrics.roc_curve(y_test, y_test_pred)\n",
    "auc = sklearn.metrics.roc_auc_score(y_test, y_test_pred)\n",
    "\n",
    "plt.style.use('ggplot')\n",
    "plt.figure(figsize=(12, 5))\n",
    "plt.xlim([-0.02, 1.02])\n",
    "plt.ylim([-0.05, 1.05])\n",
    "plt.title(\"CV regression ROC. AUC=\"+str(round(auc, 10)))\n",
    "plt.plot(fpr, tpr)"
   ]
  },
  {
   "cell_type": "code",
   "execution_count": null,
   "id": "0410c0ef",
   "metadata": {},
   "outputs": [],
   "source": []
  },
  {
   "cell_type": "code",
   "execution_count": null,
   "id": "24aab100",
   "metadata": {},
   "outputs": [],
   "source": []
  },
  {
   "cell_type": "code",
   "execution_count": null,
   "id": "9102cfc3",
   "metadata": {},
   "outputs": [],
   "source": []
  }
 ],
 "metadata": {
  "kernelspec": {
   "display_name": "Python 3",
   "language": "python",
   "name": "python3"
  },
  "language_info": {
   "codemirror_mode": {
    "name": "ipython",
    "version": 3
   },
   "file_extension": ".py",
   "mimetype": "text/x-python",
   "name": "python",
   "nbconvert_exporter": "python",
   "pygments_lexer": "ipython3",
   "version": "3.9.7"
  }
 },
 "nbformat": 4,
 "nbformat_minor": 5
}
